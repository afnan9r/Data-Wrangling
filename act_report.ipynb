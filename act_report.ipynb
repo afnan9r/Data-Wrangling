{
 "cells": [
  {
   "cell_type": "markdown",
   "id": "137ad201",
   "metadata": {},
   "source": [
    "## Act Report"
   ]
  },
  {
   "cell_type": "markdown",
   "id": "acff246d",
   "metadata": {},
   "source": [
    "After wrangling the tweets archive data, we came with the following insights below:"
   ]
  },
  {
   "cell_type": "markdown",
   "id": "ed76209d",
   "metadata": {},
   "source": [
    "#### Q1: Which dog stage has the most appearances in the tweets?"
   ]
  },
  {
   "cell_type": "markdown",
   "id": "549f3949",
   "metadata": {},
   "source": [
    "![](insight1.png)"
   ]
  },
  {
   "cell_type": "markdown",
   "id": "026a1e12",
   "metadata": {},
   "source": [
    "We can see the pupper stage is most appeared stage. On the other hand, the least appeared stage is the floofer."
   ]
  },
  {
   "cell_type": "markdown",
   "id": "3f415de6",
   "metadata": {},
   "source": [
    "#### Q2: Out of the three probability of the dog breed of each image, which probability is most likely to be true?"
   ]
  },
  {
   "cell_type": "markdown",
   "id": "2b6d99a6",
   "metadata": {},
   "source": [
    "![](insight2.png)"
   ]
  },
  {
   "cell_type": "markdown",
   "id": "8d921e7c",
   "metadata": {},
   "source": [
    "From the bar chart above, we can conclude that the first and second probability were the most accurate one with a percentage of ~%80 for each."
   ]
  },
  {
   "cell_type": "markdown",
   "id": "f96b3cf5",
   "metadata": {},
   "source": [
    "#### Q3: Is there a relationship between the retweets and favorites counts?"
   ]
  },
  {
   "cell_type": "markdown",
   "id": "d5f33891",
   "metadata": {},
   "source": [
    "![](insight3.png)"
   ]
  },
  {
   "cell_type": "markdown",
   "id": "9f7b6590",
   "metadata": {},
   "source": [
    "From the scatter plot above, we can coclude that there's a postive relationship between the retweets count and the favorite count."
   ]
  }
 ],
 "metadata": {
  "kernelspec": {
   "display_name": "Python 3",
   "language": "python",
   "name": "python3"
  },
  "language_info": {
   "codemirror_mode": {
    "name": "ipython",
    "version": 3
   },
   "file_extension": ".py",
   "mimetype": "text/x-python",
   "name": "python",
   "nbconvert_exporter": "python",
   "pygments_lexer": "ipython3",
   "version": "3.8.10"
  }
 },
 "nbformat": 4,
 "nbformat_minor": 5
}
